{
 "cells": [
  {
   "cell_type": "markdown",
   "metadata": {},
   "source": [
    "# **Unraveling the Dynamics of Airfare Price Predictions**\n",
    "\n",
    "Dennis Myasnyankin, Vannessa Salazar, and Christine Vu\n",
    "\n",
    "Shiley-Marcos School of Engineering, University of San Diego\n",
    "\n",
    "ADS 599: Capstone Project\n",
    "\n",
    "Professor Ebrahim Tarshizi\n",
    "\n",
    "December 11, 2023\n",
    "\n",
    "***"
   ]
  },
  {
   "cell_type": "markdown",
   "metadata": {},
   "source": [
    "### Import Packages"
   ]
  },
  {
   "cell_type": "code",
   "execution_count": 22,
   "metadata": {},
   "outputs": [],
   "source": [
    "# Install library to load env file\n",
    "    # %pip install python-dotenv"
   ]
  },
  {
   "cell_type": "code",
   "execution_count": 23,
   "metadata": {},
   "outputs": [],
   "source": [
    "# Import requests and json libraries\n",
    "\n",
    "import requests\n",
    "import json\n",
    "from dotenv import load_dotenv, dotenv_values"
   ]
  },
  {
   "cell_type": "code",
   "execution_count": 24,
   "metadata": {},
   "outputs": [],
   "source": [
    "# Load in ENV information\n",
    "\n",
    "config = dotenv_values(\".env\")\n",
    "\n",
    "PCC = config['PCC']\n",
    "COMPANY_NAME = config['COMPANY_NAME']\n",
    "AUTH_TOKEN = config['AUTH_TOKEN']\n"
   ]
  },
  {
   "cell_type": "markdown",
   "metadata": {},
   "source": [
    "### Define Functions\n",
    "\n",
    "##### create_payload(origin, destination, timestamp)"
   ]
  },
  {
   "cell_type": "code",
   "execution_count": 25,
   "metadata": {},
   "outputs": [],
   "source": [
    "# Function to create payload\n",
    "\n",
    "def create_payload(origin, destination, timestamp):\n",
    "    payload = {\n",
    "        \"OTA_AirLowFareSearchRQ\": {\n",
    "            \"Target\": \"Production\",\n",
    "            \"POS\": {\n",
    "                \"Source\": [\n",
    "                    {\n",
    "                        \"PseudoCityCode\": PCC,             # { ~ DOT_ENV ~ } #\n",
    "                        \"RequestorID\": {\n",
    "                            \"Type\": \"1\",\n",
    "                            \"ID\": \"1\",\n",
    "                            \"CompanyName\": {\n",
    "                                \"Code\": COMPANY_NAME       # { ~ DOT_ENV ~ } #\n",
    "                            }\n",
    "                        }\n",
    "                    }\n",
    "                ]\n",
    "            },\n",
    "            \"OriginDestinationInformation\": [\n",
    "                {\n",
    "                    \"RPH\": \"1\",\n",
    "                    \"DepartureDateTime\": timestamp,          # Date  =>  as Timestamp\n",
    "                    \"OriginLocation\": {\n",
    "                        \"LocationCode\": origin               # Origin =>  IATA Code\n",
    "                    },\n",
    "                    \"DestinationLocation\": {\n",
    "                        \"LocationCode\": destination          # Destination => IATA Code\n",
    "                    },\n",
    "                    \"TPA_Extensions\": {\n",
    "                        \"SegmentType\": {\n",
    "                            \"Code\": \"O\"\n",
    "                        },\n",
    "                        \"CabinPref\": {\n",
    "                            \"PreferLevel\": \"Preferred\",\n",
    "                            \"Cabin\": \"Y\"                     # Cabin Class => API returns all available cabins\n",
    "                        }\n",
    "                    }\n",
    "                }\n",
    "            ],\n",
    "            \"TravelPreferences\": {\n",
    "                \"MaxStopsQuantity\": 0,\n",
    "                \"ValidInterlineTicket\": True,\n",
    "                \"TPA_Extensions\": {\n",
    "                    \"XOFares\": {\n",
    "                        \"Value\": True\n",
    "                    },\n",
    "                    \"DataSources\": {\n",
    "                        \"ATPCO\": \"Enable\",\n",
    "                        \"LCC\": \"Enable\",\n",
    "                        \"NDC\": \"Enable\"\n",
    "                    }\n",
    "                }\n",
    "            },\n",
    "            \"TravelerInfoSummary\": {\n",
    "                \"SeatsRequested\": [\n",
    "                    1\n",
    "                ],\n",
    "                \"AirTravelerAvail\": [\n",
    "                    {\n",
    "                        \"PassengerTypeQuantity\": [\n",
    "                            {\n",
    "                                \"Code\": \"ADT\",\n",
    "                                \"Quantity\": 1\n",
    "                            }\n",
    "                        ]\n",
    "                    }\n",
    "                ],\n",
    "                \"PriceRequestInformation\": {\n",
    "                    \"CurrencyCode\": \"USD\"\n",
    "                }\n",
    "            },\n",
    "            \"TPA_Extensions\": {\n",
    "                \"IntelliSellTransaction\": {\n",
    "                    \"RequestType\": {\n",
    "                        \"Name\": \"100ITINS\"                         \n",
    "                    }\n",
    "                },\n",
    "                \"ExchangeSettings\": {\n",
    "                    \"AttachExchangeInfo\": True\n",
    "                }\n",
    "            },\n",
    "            \"Version\": \"v4\"\n",
    "        }     \n",
    "    }\n",
    "    return payload"
   ]
  },
  {
   "cell_type": "markdown",
   "metadata": {},
   "source": [
    "##### get_hub_jsons(tuple, timestamp)"
   ]
  },
  {
   "cell_type": "code",
   "execution_count": 26,
   "metadata": {},
   "outputs": [],
   "source": [
    "# Function to extract flight route JSON\n",
    "\n",
    "def get_hub_jsons(twople, timestamp):\n",
    "    # Extract twople information\n",
    "    hub = twople[0]\n",
    "    destinations = twople[1]\n",
    "    # Iterate destinations\n",
    "    for dest in destinations:\n",
    "        # Create payload, send POST request, extract JSON, save file to folder\n",
    "        payload = create_payload(hub, dest, timestamp)\n",
    "        r = requests.post(url, headers=headers, json=payload)\n",
    "        content = r.json()\n",
    "        f = open(f\"airport_hubs/{hub}/{timestamp}/{dest}.json\", 'w')\n",
    "        f.write(json.dumps(content))\n",
    "        f.close()"
   ]
  },
  {
   "cell_type": "markdown",
   "metadata": {},
   "source": [
    "### Set Up HTTP POST Request Parameters"
   ]
  },
  {
   "cell_type": "code",
   "execution_count": 30,
   "metadata": {},
   "outputs": [],
   "source": [
    "# Set Headers\n",
    "\n",
    "headers = {\n",
    "    'User-Agent': 'Mozilla/5.0 (Macintosh; Intel Mac OS X 10_15_7) AppleWebKit/537.36 (KHTML, like Gecko) Chrome/119.0.0.0 Safari/537.36',\n",
    "    'Content-Type': 'application/json',\n",
    "    'Authorization': f'Bearer {AUTH_TOKEN}'     # { ~ DOT_ENV ~ } #\n",
    "}\n",
    "\n",
    "# Set URL\n",
    "\n",
    "url = 'https://api.sabre.com/v4/offers/shop'\n"
   ]
  },
  {
   "cell_type": "markdown",
   "metadata": {},
   "source": [
    "### Define Airport Hub - Destinations Tuple List"
   ]
  },
  {
   "cell_type": "code",
   "execution_count": 31,
   "metadata": {},
   "outputs": [],
   "source": [
    "# Construct airport hub and destination tuples\n",
    "\n",
    "hub_tuples = [\n",
    "    ('DXB',\t['RUH',\t'KWI',\t'BOM',\t'JED',\t'BAH']),\n",
    "    ('LHR',\t['JFK',\t'DUB',\t'AMS',\t'FRA',\t'MUC']),\n",
    "    ('HKG',\t['TPE',\t'BKK',\t'PVG',\t'KIX',\t'MNL']),\n",
    "    ('ICN',\t['KIX',\t'FUK',\t'NRT',\t'TAO',\t'HKG']),\n",
    "    ('SIN',\t['KUL',\t'CKG',\t'DPS',\t'BKK',\t'PEN']),\n",
    "    ('CDG',\t['LHR',\t'AMS',\t'BCN',\t'JFK',\t'FRA']),\n",
    "    ('AMS',\t['LHR',\t'CPH',\t'BCN',\t'DUB',\t'CDG']),\n",
    "    ('FRA',\t['LHR',\t'BER',\t'MUC',\t'VIE',\t'HAM']),\n",
    "    ('BKK',\t['CNX',\t'HKT',\t'USM',\t'HKG',\t'SIN']),\n",
    "    ('IST',\t['ADB',\t'IKA',\t'ESB',\t'AYT',\t'ADA']),\n",
    "    ('KUL',\t['SIN',\t'CKG',\t'BKI',\t'KCH',\t'PEN']),\n",
    "    ('TPE',\t['HKG',\t'NRT',\t'KIX',\t'MNL',\t'ICN']),\n",
    "    ('DOH',\t['BAH',\t'AUH',\t'KWI',\t'LHR',\t'SHJ']),\n",
    "    ('MAD',\t['BCN',\t'LIS',\t'PMI',\t'FCO',\t'LHR']),\n",
    "    ('MUC',\t['LHR',\t'DUS',\t'HAM',\t'FRA',\t'BER']),\n",
    "    ('JFK',\t['LHR',\t'LAX',\t'SFO',\t'BOS',\t'MIA']),\n",
    "    ('PVG',\t['SHE',\t'DLC',\t'CKG',\t'CGQ',\t'HKG']),\n",
    "    ('BCN',\t['PMI',\t'MAD',\t'FCO',\t'AMS',\t'LIS']),\n",
    "    ('NRT',\t['ICN',\t'TPE',\t'CTS',\t'HKG',\t'FUK']),\n",
    "    ('FCO',\t['CTA',\t'MAD',\t'BCN',\t'PMO',\t'LIN']),\n",
    "    ('YYZ',\t['LGA',\t'YUL',\t'YVR',\t'ORD',\t'YOW']),\n",
    "    ('ZRH',\t['LHR',\t'AMS',\t'FRA',\t'BER',\t'VIE']),\n",
    "    ('VIE',\t['FRA',\t'LHR',\t'ZRH',\t'BER',\t'AMS']),\n",
    "    ('DUB',\t['LHR',\t'AMS',\t'MAN',\t'BHX',\t'EDI']),\n",
    "    ('PEK',\t['SHA',\t'SZX',\t'CTU',\t'HGH',\t'CKG']),\n",
    "    ('CPH',\t['OSL',\t'ARN',\t'AMS',\t'AAL',\t'LHR']),\n",
    "    ('LAX',\t['JFK',\t'SFO',\t'LAS',\t'PHX',\t'DEN']),\n",
    "    ('BRU',\t['MAD',\t'LHR',\t'BCN',\t'FRA',\t'MUC']),\n",
    "    ('LIS',\t['MAD',\t'ORY',\t'BCN',\t'FNC',\t'LHR']),\n",
    "    ('MIA',\t['EWR',\t'ATL',\t'LGA',\t'BOG',\t'LAX'])\n",
    "]"
   ]
  },
  {
   "cell_type": "markdown",
   "metadata": {},
   "source": [
    "### Perform Data Extraction"
   ]
  },
  {
   "cell_type": "code",
   "execution_count": 9,
   "metadata": {},
   "outputs": [],
   "source": [
    "# Iterate airport hubs and destinations for 1 day, 1 week and 1 month\n",
    "\n",
    "for tup in hub_tuples:\n",
    "    get_hub_jsons(tup, \"2023-11-15T00:00:00\")\n",
    "    get_hub_jsons(tup, \"2023-11-22T00:00:00\")\n",
    "    get_hub_jsons(tup, \"2023-12-15T00:00:00\")"
   ]
  }
 ],
 "metadata": {
  "kernelspec": {
   "display_name": "ADS500B",
   "language": "python",
   "name": "python3"
  },
  "language_info": {
   "codemirror_mode": {
    "name": "ipython",
    "version": 3
   },
   "file_extension": ".py",
   "mimetype": "text/x-python",
   "name": "python",
   "nbconvert_exporter": "python",
   "pygments_lexer": "ipython3",
   "version": "3.10.4"
  },
  "orig_nbformat": 4
 },
 "nbformat": 4,
 "nbformat_minor": 2
}
