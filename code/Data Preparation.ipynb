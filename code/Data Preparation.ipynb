{
  "cells": [
    {
      "attachments": {},
      "cell_type": "markdown",
      "metadata": {
        "id": "rI7jgQkbXF4t"
      },
      "source": [
        "# **Unraveling the Dynamics of Airfare Price Predictions**\n",
        "\n",
        "Dennis Myasnyankin, Vannessa Salazar, and Christine Vu\n",
        "\n",
        "Shiley-Marcos School of Engineering, University of San Diego\n",
        "\n",
        "ADS 599: Capstone Project\n",
        "\n",
        "Professor Ebrahim Tarshizi\n",
        "\n",
        "December 11, 2023\n",
        "\n",
        "***"
      ]
    },
    {
      "cell_type": "markdown",
      "metadata": {
        "id": "Eju2lKZSXF4v"
      },
      "source": [
        "## **Data Importing**\n",
        "\n",
        "### **Import Libraries**"
      ]
    },
    {
      "cell_type": "code",
      "execution_count": 1,
      "metadata": {
        "id": "4SuaNOo6XF4w"
      },
      "outputs": [],
      "source": [
        "import pandas as pd\n",
        "import zipfile\n",
        "import io\n",
        "import os\n",
        "import json\n",
        "import requests\n",
        "import matplotlib.pyplot as plt\n",
        "import seaborn as sns\n",
        "import numpy as np\n",
        "\n",
        "from pandas import json_normalize\n",
        "from datetime import datetime\n",
        "from io import BytesIO\n",
        "from scipy import stats\n",
        "from sklearn.neighbors import KNeighborsRegressor\n",
        "from sklearn.metrics import mean_squared_error, mean_absolute_error, r2_score\n",
        "from sklearn.model_selection import GridSearchCV, train_test_split, cross_val_score, KFold\n",
        "from sklearn.ensemble import RandomForestRegressor, GradientBoostingRegressor\n",
        "from sklearn.tree import DecisionTreeRegressor\n",
        "from sklearn.linear_model import LinearRegression, Lasso, Ridge, ElasticNet\n",
        "from sklearn.svm import SVR\n",
        "from xgboost import XGBRegressor\n",
        "from sklearn.neural_network import MLPRegressor\n",
        "from sklearn.preprocessing import StandardScaler"
      ]
    },
    {
      "cell_type": "markdown",
      "metadata": {
        "id": "_NNzGpe3XF4x"
      },
      "source": [
        "### **Data Acquisition and Aggregation**"
      ]
    },
    {
      "cell_type": "code",
      "execution_count": 2,
      "metadata": {
        "id": "NQOLkgxPaobA"
      },
      "outputs": [],
      "source": [
        "github_repo_url = 'https://github.com/VSbr22/Capstone/raw/main/data/jsons.zip'\n",
        "\n",
        "# Fetch the zip file from the GitHub repository\n",
        "response = requests.get(github_repo_url)\n",
        "zip_file = BytesIO(response.content)"
      ]
    },
    {
      "cell_type": "code",
      "execution_count": 3,
      "metadata": {
        "id": "WskLajYlXouu"
      },
      "outputs": [],
      "source": [
        "# Unzip the folder\n",
        "with zipfile.ZipFile(zip_file, 'r') as zip_ref:\n",
        "    zip_ref.extractall('your_unzipped_folder')"
      ]
    },
    {
      "cell_type": "code",
      "execution_count": 4,
      "metadata": {
        "colab": {
          "base_uri": "https://localhost:8080/",
          "height": 652
        },
        "id": "1L9e8JPGXpoL",
        "outputId": "cac62516-7dff-4183-e22a-d438d768dcb8"
      },
      "outputs": [
        {
          "data": {
            "text/html": [
              "<div>\n",
              "<style scoped>\n",
              "    .dataframe tbody tr th:only-of-type {\n",
              "        vertical-align: middle;\n",
              "    }\n",
              "\n",
              "    .dataframe tbody tr th {\n",
              "        vertical-align: top;\n",
              "    }\n",
              "\n",
              "    .dataframe thead th {\n",
              "        text-align: right;\n",
              "    }\n",
              "</style>\n",
              "<table border=\"1\" class=\"dataframe\">\n",
              "  <thead>\n",
              "    <tr style=\"text-align: right;\">\n",
              "      <th></th>\n",
              "      <th>Departure City</th>\n",
              "      <th>Departure Date</th>\n",
              "      <th>Departure Time</th>\n",
              "      <th>Arrival Location</th>\n",
              "      <th>Arrival Date</th>\n",
              "      <th>Arrival Time</th>\n",
              "      <th>Flight Duration</th>\n",
              "      <th>Operating Carrier</th>\n",
              "      <th>Aircraft Type</th>\n",
              "      <th>Cabin Class</th>\n",
              "      <th>Fare Class</th>\n",
              "      <th>Price</th>\n",
              "      <th>Days Until Departure</th>\n",
              "    </tr>\n",
              "  </thead>\n",
              "  <tbody>\n",
              "    <tr>\n",
              "      <th>0</th>\n",
              "      <td>CPH</td>\n",
              "      <td>2023-12-15</td>\n",
              "      <td>07:30:00</td>\n",
              "      <td>AAL</td>\n",
              "      <td>2023-12-15</td>\n",
              "      <td>08:15:00</td>\n",
              "      <td>45</td>\n",
              "      <td>DY</td>\n",
              "      <td>7M8</td>\n",
              "      <td>Y</td>\n",
              "      <td>Q</td>\n",
              "      <td>64.8</td>\n",
              "      <td>10</td>\n",
              "    </tr>\n",
              "    <tr>\n",
              "      <th>1</th>\n",
              "      <td>CPH</td>\n",
              "      <td>2023-12-15</td>\n",
              "      <td>10:45:00</td>\n",
              "      <td>AAL</td>\n",
              "      <td>2023-12-15</td>\n",
              "      <td>11:30:00</td>\n",
              "      <td>45</td>\n",
              "      <td>DY</td>\n",
              "      <td>7M8</td>\n",
              "      <td>Y</td>\n",
              "      <td>Q</td>\n",
              "      <td>64.8</td>\n",
              "      <td>10</td>\n",
              "    </tr>\n",
              "    <tr>\n",
              "      <th>2</th>\n",
              "      <td>CPH</td>\n",
              "      <td>2023-12-15</td>\n",
              "      <td>14:10:00</td>\n",
              "      <td>AAL</td>\n",
              "      <td>2023-12-15</td>\n",
              "      <td>14:55:00</td>\n",
              "      <td>45</td>\n",
              "      <td>DY</td>\n",
              "      <td>7M8</td>\n",
              "      <td>Y</td>\n",
              "      <td>Q</td>\n",
              "      <td>64.8</td>\n",
              "      <td>10</td>\n",
              "    </tr>\n",
              "    <tr>\n",
              "      <th>3</th>\n",
              "      <td>CPH</td>\n",
              "      <td>2023-12-15</td>\n",
              "      <td>18:55:00</td>\n",
              "      <td>AAL</td>\n",
              "      <td>2023-12-15</td>\n",
              "      <td>19:40:00</td>\n",
              "      <td>45</td>\n",
              "      <td>D8</td>\n",
              "      <td>73H</td>\n",
              "      <td>Y</td>\n",
              "      <td>Q</td>\n",
              "      <td>64.8</td>\n",
              "      <td>10</td>\n",
              "    </tr>\n",
              "    <tr>\n",
              "      <th>4</th>\n",
              "      <td>CPH</td>\n",
              "      <td>2023-12-15</td>\n",
              "      <td>20:20:00</td>\n",
              "      <td>AAL</td>\n",
              "      <td>2023-12-15</td>\n",
              "      <td>21:05:00</td>\n",
              "      <td>45</td>\n",
              "      <td>D8</td>\n",
              "      <td>73H</td>\n",
              "      <td>Y</td>\n",
              "      <td>Q</td>\n",
              "      <td>64.8</td>\n",
              "      <td>10</td>\n",
              "    </tr>\n",
              "    <tr>\n",
              "      <th>...</th>\n",
              "      <td>...</td>\n",
              "      <td>...</td>\n",
              "      <td>...</td>\n",
              "      <td>...</td>\n",
              "      <td>...</td>\n",
              "      <td>...</td>\n",
              "      <td>...</td>\n",
              "      <td>...</td>\n",
              "      <td>...</td>\n",
              "      <td>...</td>\n",
              "      <td>...</td>\n",
              "      <td>...</td>\n",
              "      <td>...</td>\n",
              "    </tr>\n",
              "    <tr>\n",
              "      <th>8190</th>\n",
              "      <td>VIE</td>\n",
              "      <td>2023-11-22</td>\n",
              "      <td>07:00:00</td>\n",
              "      <td>ZRH</td>\n",
              "      <td>2023-11-22</td>\n",
              "      <td>08:25:00</td>\n",
              "      <td>85</td>\n",
              "      <td>OS</td>\n",
              "      <td>321</td>\n",
              "      <td>Y</td>\n",
              "      <td>M</td>\n",
              "      <td>1065.7</td>\n",
              "      <td>-13</td>\n",
              "    </tr>\n",
              "    <tr>\n",
              "      <th>8191</th>\n",
              "      <td>VIE</td>\n",
              "      <td>2023-11-22</td>\n",
              "      <td>09:45:00</td>\n",
              "      <td>ZRH</td>\n",
              "      <td>2023-11-22</td>\n",
              "      <td>11:10:00</td>\n",
              "      <td>85</td>\n",
              "      <td>LX</td>\n",
              "      <td>32Q</td>\n",
              "      <td>Y</td>\n",
              "      <td>M</td>\n",
              "      <td>1065.7</td>\n",
              "      <td>-13</td>\n",
              "    </tr>\n",
              "    <tr>\n",
              "      <th>8192</th>\n",
              "      <td>VIE</td>\n",
              "      <td>2023-11-22</td>\n",
              "      <td>09:45:00</td>\n",
              "      <td>ZRH</td>\n",
              "      <td>2023-11-22</td>\n",
              "      <td>11:10:00</td>\n",
              "      <td>85</td>\n",
              "      <td>LX</td>\n",
              "      <td>32Q</td>\n",
              "      <td>Y</td>\n",
              "      <td>M</td>\n",
              "      <td>1203.7</td>\n",
              "      <td>-13</td>\n",
              "    </tr>\n",
              "    <tr>\n",
              "      <th>8193</th>\n",
              "      <td>VIE</td>\n",
              "      <td>2023-11-22</td>\n",
              "      <td>07:00:00</td>\n",
              "      <td>ZRH</td>\n",
              "      <td>2023-11-22</td>\n",
              "      <td>08:25:00</td>\n",
              "      <td>85</td>\n",
              "      <td>OS</td>\n",
              "      <td>321</td>\n",
              "      <td>Y</td>\n",
              "      <td>M</td>\n",
              "      <td>1203.7</td>\n",
              "      <td>-13</td>\n",
              "    </tr>\n",
              "    <tr>\n",
              "      <th>8194</th>\n",
              "      <td>VIE</td>\n",
              "      <td>2023-11-22</td>\n",
              "      <td>08:25:00</td>\n",
              "      <td>ZRH</td>\n",
              "      <td>2023-11-22</td>\n",
              "      <td>09:50:00</td>\n",
              "      <td>85</td>\n",
              "      <td>OS</td>\n",
              "      <td>320</td>\n",
              "      <td>Y</td>\n",
              "      <td>M</td>\n",
              "      <td>1203.7</td>\n",
              "      <td>-13</td>\n",
              "    </tr>\n",
              "  </tbody>\n",
              "</table>\n",
              "<p>8195 rows × 13 columns</p>\n",
              "</div>"
            ],
            "text/plain": [
              "     Departure City Departure Date Departure Time Arrival Location  \\\n",
              "0               CPH     2023-12-15       07:30:00              AAL   \n",
              "1               CPH     2023-12-15       10:45:00              AAL   \n",
              "2               CPH     2023-12-15       14:10:00              AAL   \n",
              "3               CPH     2023-12-15       18:55:00              AAL   \n",
              "4               CPH     2023-12-15       20:20:00              AAL   \n",
              "...             ...            ...            ...              ...   \n",
              "8190            VIE     2023-11-22       07:00:00              ZRH   \n",
              "8191            VIE     2023-11-22       09:45:00              ZRH   \n",
              "8192            VIE     2023-11-22       09:45:00              ZRH   \n",
              "8193            VIE     2023-11-22       07:00:00              ZRH   \n",
              "8194            VIE     2023-11-22       08:25:00              ZRH   \n",
              "\n",
              "     Arrival Date Arrival Time  Flight Duration Operating Carrier  \\\n",
              "0      2023-12-15     08:15:00               45                DY   \n",
              "1      2023-12-15     11:30:00               45                DY   \n",
              "2      2023-12-15     14:55:00               45                DY   \n",
              "3      2023-12-15     19:40:00               45                D8   \n",
              "4      2023-12-15     21:05:00               45                D8   \n",
              "...           ...          ...              ...               ...   \n",
              "8190   2023-11-22     08:25:00               85                OS   \n",
              "8191   2023-11-22     11:10:00               85                LX   \n",
              "8192   2023-11-22     11:10:00               85                LX   \n",
              "8193   2023-11-22     08:25:00               85                OS   \n",
              "8194   2023-11-22     09:50:00               85                OS   \n",
              "\n",
              "     Aircraft Type Cabin Class Fare Class   Price  Days Until Departure  \n",
              "0              7M8           Y          Q    64.8                    10  \n",
              "1              7M8           Y          Q    64.8                    10  \n",
              "2              7M8           Y          Q    64.8                    10  \n",
              "3              73H           Y          Q    64.8                    10  \n",
              "4              73H           Y          Q    64.8                    10  \n",
              "...            ...         ...        ...     ...                   ...  \n",
              "8190           321           Y          M  1065.7                   -13  \n",
              "8191           32Q           Y          M  1065.7                   -13  \n",
              "8192           32Q           Y          M  1203.7                   -13  \n",
              "8193           321           Y          M  1203.7                   -13  \n",
              "8194           320           Y          M  1203.7                   -13  \n",
              "\n",
              "[8195 rows x 13 columns]"
            ]
          },
          "execution_count": 4,
          "metadata": {},
          "output_type": "execute_result"
        }
      ],
      "source": [
        "# List all JSON files in the 'jsons' subfolder\n",
        "json_subfolder = os.path.join('your_unzipped_folder', 'jsons')\n",
        "json_files = [file for file in os.listdir(json_subfolder) if file.endswith('.json')]\n",
        "\n",
        "# Initialize an empty list for extracted data\n",
        "out = []\n",
        "\n",
        "# Iterate over each JSON file\n",
        "for file_name in json_files:\n",
        "    # Load JSON data\n",
        "    with open(os.path.join(json_subfolder, file_name), 'r') as file:\n",
        "        data = json.load(file)\n",
        "\n",
        "    # Christines code for processing\n",
        "    schedule_descs = data[\"groupedItineraryResponse\"][\"scheduleDescs\"]\n",
        "    leg_descs = data[\"groupedItineraryResponse\"][\"legDescs\"]\n",
        "    itinerary_groups = data[\"groupedItineraryResponse\"][\"itineraryGroups\"]\n",
        "\n",
        "    # Iterate over itinerary groups\n",
        "    for group in itinerary_groups:\n",
        "        itineraries = group.get(\"itineraries\", [])\n",
        "        departure_date = group[\"groupDescription\"][\"legDescriptions\"][0][\"departureDate\"]\n",
        "        departure_city = group[\"groupDescription\"][\"legDescriptions\"][0][\"departureLocation\"]\n",
        "        arrival_date = group[\"groupDescription\"][\"legDescriptions\"][0].get(\"arrivalDate\", departure_date)\n",
        "        arrival_location = group[\"groupDescription\"][\"legDescriptions\"][0][\"arrivalLocation\"]\n",
        "\n",
        "        # Calculate \"Days Until Departure\" based on current date and departure date\n",
        "        current_date = datetime.now()\n",
        "        departure_date = datetime.strptime(departure_date, \"%Y-%m-%d\")\n",
        "        days_until_departure = (departure_date - current_date).days\n",
        "\n",
        "        # Iterate over itineraries in the group\n",
        "        for itinerary in itineraries:\n",
        "            legs = itinerary.get(\"legs\", [])\n",
        "            for leg in legs:\n",
        "                schedules = leg_descs[leg.get('ref') - 1].get(\"schedules\", [])\n",
        "                for schedule in schedules:\n",
        "                    schedule_data = schedule_descs[schedule.get('ref') - 1]\n",
        "\n",
        "                    departure_time = schedule_data[\"departure\"][\"time\"].split(\"+\")[0]\n",
        "                    arrival_time = schedule_data[\"arrival\"][\"time\"].split(\"+\")[0]\n",
        "                    flight_duration = schedule_data[\"elapsedTime\"]\n",
        "                    operating_carrier = schedule_data[\"carrier\"][\"operating\"]\n",
        "                    aircraft_type = schedule_data[\"carrier\"][\"equipment\"][\"code\"]\n",
        "                    cabin_class = itinerary[\"pricingInformation\"][0][\"fare\"][\"passengerInfoList\"][0][\"passengerInfo\"][\"fareComponents\"][0][\"segments\"][0][\"segment\"][\"cabinCode\"]\n",
        "                    fare_class = itinerary[\"pricingInformation\"][0][\"fare\"][\"passengerInfoList\"][0][\"passengerInfo\"][\"fareComponents\"][0][\"segments\"][0][\"segment\"][\"bookingCode\"]\n",
        "                    price = itinerary[\"pricingInformation\"][0][\"fare\"][\"totalFare\"][\"totalPrice\"]\n",
        "\n",
        "                    # Add to output\n",
        "                    out.append([\n",
        "                        departure_city, departure_date, departure_time,\n",
        "                        arrival_location, arrival_date, arrival_time,\n",
        "                        flight_duration, operating_carrier, aircraft_type,\n",
        "                        cabin_class, fare_class, price, days_until_departure\n",
        "                    ])\n",
        "\n",
        "# Creating a DataFrame\n",
        "columns = [\n",
        "    \"Departure City\", \"Departure Date\", \"Departure Time\",\n",
        "    \"Arrival Location\", \"Arrival Date\", \"Arrival Time\",\n",
        "    \"Flight Duration\", \"Operating Carrier\", \"Aircraft Type\",\n",
        "    \"Cabin Class\", \"Fare Class\", \"Price\", \"Days Until Departure\"\n",
        "]\n",
        "\n",
        "df = pd.DataFrame(out, columns= columns)\n",
        "df"
      ]
    },
    {
      "cell_type": "markdown",
      "metadata": {
        "id": "3-0-8UsOe_FW"
      },
      "source": [
        "***\n",
        "\n",
        "## **Data Preprocessing**"
      ]
    },
    {
      "cell_type": "markdown",
      "metadata": {
        "id": "XivcvZvHe_FW"
      },
      "source": [
        "### **Handling Missing Values**"
      ]
    },
    {
      "cell_type": "code",
      "execution_count": 22,
      "metadata": {
        "colab": {
          "base_uri": "https://localhost:8080/"
        },
        "id": "FYgXkFz1e_Fn",
        "outputId": "52054426-73d6-4a5f-8cd3-4b78a3ea0606"
      },
      "outputs": [
        {
          "data": {
            "text/plain": [
              "Departure City          0\n",
              "Departure Date          0\n",
              "Departure Time          0\n",
              "Arrival Location        0\n",
              "Arrival Date            0\n",
              "Arrival Time            0\n",
              "Flight Duration         0\n",
              "Operating Carrier       0\n",
              "Aircraft Type           0\n",
              "Cabin Class             0\n",
              "Fare Class              0\n",
              "Price                   0\n",
              "Days Until Departure    0\n",
              "dtype: int64"
            ]
          },
          "execution_count": 22,
          "metadata": {},
          "output_type": "execute_result"
        }
      ],
      "source": [
        "# Check for missing values\n",
        "df.isnull().sum()"
      ]
    },
    {
      "cell_type": "markdown",
      "metadata": {
        "id": "rHjowb1fe_Fn"
      },
      "source": [
        "There is no missing data, so there is no need for imputation or removal.\n"
      ]
    },
    {
      "cell_type": "code",
      "execution_count": 23,
      "metadata": {
        "colab": {
          "base_uri": "https://localhost:8080/"
        },
        "id": "ToK9s71_e_Fn",
        "outputId": "a81f5060-e64f-45b2-af91-083ebe1f7949"
      },
      "outputs": [
        {
          "name": "stdout",
          "output_type": "stream",
          "text": [
            "Number of duplicate rows: 399\n"
          ]
        }
      ],
      "source": [
        "# Count duplicate rows\n",
        "duplicate_count = df.duplicated().sum()\n",
        "print(f\"Number of duplicate rows: {duplicate_count}\")\n",
        "\n",
        "# Remove duplicate rows (if any exist)\n",
        "df.drop_duplicates(inplace = True)"
      ]
    },
    {
      "cell_type": "markdown",
      "metadata": {
        "id": "pZ5rL9bge_Fo"
      },
      "source": [
        "### **One Hot Encoding: Handling Categorical Features**"
      ]
    },
    {
      "cell_type": "code",
      "execution_count": 24,
      "metadata": {
        "id": "rDGc59G0e_Fo"
      },
      "outputs": [],
      "source": [
        "categorical_columns = ['Departure City', 'Operating Carrier', 'Aircraft Type', 'Cabin Class', 'Fare Class', 'Arrival Location']\n",
        "\n",
        "df = pd.get_dummies(df, columns = categorical_columns)"
      ]
    },
    {
      "cell_type": "markdown",
      "metadata": {
        "id": "2vx_OhbVe_Fo"
      },
      "source": [
        "### **Outliers: Remove Using Z-Score**\n",
        "\n",
        "Rows from the original dataframe where all the z-scores are less than 3 are selected. Rows with z-scores greater than 3 are considered outliers and are excluded from the new dataframe."
      ]
    },
    {
      "cell_type": "code",
      "execution_count": 25,
      "metadata": {
        "id": "cm6oxnn3e_Fo"
      },
      "outputs": [],
      "source": [
        "z_scores = stats.zscore(df[numerical_columns])\n",
        "df_no_outliers = df[(z_scores < 3)]"
      ]
    },
    {
      "cell_type": "markdown",
      "metadata": {
        "id": "7h8f90eCe_Fp"
      },
      "source": [
        "### **Convert to DateTime Format**"
      ]
    },
    {
      "cell_type": "code",
      "execution_count": 26,
      "metadata": {
        "id": "w-WmfXKGe_Fp"
      },
      "outputs": [],
      "source": [
        "df['Departure Time'] = df['Departure Time'].str.replace('Z', '', regex = False)\n",
        "df['Arrival Time'] = df['Arrival Time'].str.replace('Z', '', regex = False)"
      ]
    },
    {
      "cell_type": "code",
      "execution_count": 27,
      "metadata": {},
      "outputs": [],
      "source": [
        "df['Departure Date'] = pd.to_datetime(df['Departure Date'], errors = 'coerce')\n",
        "df['Departure Time'] = pd.to_datetime(df['Departure Time'] + '+0000', format = '%H:%M:%S%z', utc = True, errors = 'coerce')\n",
        "df['Arrival Date'] = pd.to_datetime(df['Arrival Date'], errors = 'coerce')\n",
        "df['Arrival Time'] = pd.to_datetime(df['Arrival Time'] + '+0000', format = '%H:%M:%S%z', utc = True, errors = 'coerce')"
      ]
    },
    {
      "cell_type": "code",
      "execution_count": 28,
      "metadata": {
        "colab": {
          "base_uri": "https://localhost:8080/"
        },
        "id": "K6tC50DrhJDZ",
        "outputId": "af941b9d-9129-416b-c844-9fe0fe67b4f6"
      },
      "outputs": [
        {
          "data": {
            "text/plain": [
              "Departure Date               datetime64[ns]\n",
              "Departure Time          datetime64[ns, UTC]\n",
              "Arrival Date                 datetime64[ns]\n",
              "Arrival Time            datetime64[ns, UTC]\n",
              "Flight Duration                       int64\n",
              "                               ...         \n",
              "Arrival Location_VIE                   bool\n",
              "Arrival Location_YOW                   bool\n",
              "Arrival Location_YUL                   bool\n",
              "Arrival Location_YVR                   bool\n",
              "Arrival Location_ZRH                   bool\n",
              "Length: 316, dtype: object"
            ]
          },
          "execution_count": 28,
          "metadata": {},
          "output_type": "execute_result"
        }
      ],
      "source": [
        "df.dtypes"
      ]
    },
    {
      "cell_type": "code",
      "execution_count": 29,
      "metadata": {},
      "outputs": [],
      "source": [
        "# Convert datetime features to a numeric representation\n",
        "df['Departure_date_numeric'] = (df['Departure Date'].astype('int64') // 10**9).astype('int32')\n",
        "df['Arrival_date_numeric'] = (df['Arrival Date'].astype('int64') // 10**9).astype('int32')\n",
        "df['Arrival_time_numeric'] = (df['Arrival Time'].astype('int64') // 10**9).astype('int32')\n",
        "df['Departure_time_numeric'] = (df['Departure Time'].astype('int64') // 10**9).astype('int32')"
      ]
    },
    {
      "cell_type": "code",
      "execution_count": 30,
      "metadata": {
        "colab": {
          "base_uri": "https://localhost:8080/"
        },
        "id": "wZ5muX0KeTZp",
        "outputId": "7cc319a4-1248-4160-e141-2e3061837e04"
      },
      "outputs": [
        {
          "name": "stdout",
          "output_type": "stream",
          "text": [
            "0       1702598400\n",
            "1       1702598400\n",
            "2       1702598400\n",
            "3       1702598400\n",
            "4       1702598400\n",
            "           ...    \n",
            "8190    1700611200\n",
            "8191    1700611200\n",
            "8192    1700611200\n",
            "8193    1700611200\n",
            "8194    1700611200\n",
            "Name: Departure_date_numeric, Length: 7796, dtype: int32\n"
          ]
        }
      ],
      "source": [
        "print(df['Departure_date_numeric'])"
      ]
    },
    {
      "cell_type": "code",
      "execution_count": 31,
      "metadata": {
        "id": "5IdlLSAcjn9X"
      },
      "outputs": [
        {
          "data": {
            "text/html": [
              "<div>\n",
              "<style scoped>\n",
              "    .dataframe tbody tr th:only-of-type {\n",
              "        vertical-align: middle;\n",
              "    }\n",
              "\n",
              "    .dataframe tbody tr th {\n",
              "        vertical-align: top;\n",
              "    }\n",
              "\n",
              "    .dataframe thead th {\n",
              "        text-align: right;\n",
              "    }\n",
              "</style>\n",
              "<table border=\"1\" class=\"dataframe\">\n",
              "  <thead>\n",
              "    <tr style=\"text-align: right;\">\n",
              "      <th></th>\n",
              "      <th>Flight Duration</th>\n",
              "      <th>Price</th>\n",
              "      <th>Days Until Departure</th>\n",
              "      <th>Departure City_AMS</th>\n",
              "      <th>Departure City_BCN</th>\n",
              "      <th>Departure City_BKK</th>\n",
              "      <th>Departure City_BRU</th>\n",
              "      <th>Departure City_CDG</th>\n",
              "      <th>Departure City_CPH</th>\n",
              "      <th>Departure City_DMK</th>\n",
              "      <th>...</th>\n",
              "      <th>Arrival Location_USM</th>\n",
              "      <th>Arrival Location_VIE</th>\n",
              "      <th>Arrival Location_YOW</th>\n",
              "      <th>Arrival Location_YUL</th>\n",
              "      <th>Arrival Location_YVR</th>\n",
              "      <th>Arrival Location_ZRH</th>\n",
              "      <th>Departure_date_numeric</th>\n",
              "      <th>Arrival_date_numeric</th>\n",
              "      <th>Arrival_time_numeric</th>\n",
              "      <th>Departure_time_numeric</th>\n",
              "    </tr>\n",
              "  </thead>\n",
              "  <tbody>\n",
              "    <tr>\n",
              "      <th>0</th>\n",
              "      <td>45</td>\n",
              "      <td>64.8</td>\n",
              "      <td>10</td>\n",
              "      <td>False</td>\n",
              "      <td>False</td>\n",
              "      <td>False</td>\n",
              "      <td>False</td>\n",
              "      <td>False</td>\n",
              "      <td>True</td>\n",
              "      <td>False</td>\n",
              "      <td>...</td>\n",
              "      <td>False</td>\n",
              "      <td>False</td>\n",
              "      <td>False</td>\n",
              "      <td>False</td>\n",
              "      <td>False</td>\n",
              "      <td>False</td>\n",
              "      <td>1702598400</td>\n",
              "      <td>1702598400</td>\n",
              "      <td>2086008196</td>\n",
              "      <td>2086005496</td>\n",
              "    </tr>\n",
              "    <tr>\n",
              "      <th>1</th>\n",
              "      <td>45</td>\n",
              "      <td>64.8</td>\n",
              "      <td>10</td>\n",
              "      <td>False</td>\n",
              "      <td>False</td>\n",
              "      <td>False</td>\n",
              "      <td>False</td>\n",
              "      <td>False</td>\n",
              "      <td>True</td>\n",
              "      <td>False</td>\n",
              "      <td>...</td>\n",
              "      <td>False</td>\n",
              "      <td>False</td>\n",
              "      <td>False</td>\n",
              "      <td>False</td>\n",
              "      <td>False</td>\n",
              "      <td>False</td>\n",
              "      <td>1702598400</td>\n",
              "      <td>1702598400</td>\n",
              "      <td>2086019896</td>\n",
              "      <td>2086017196</td>\n",
              "    </tr>\n",
              "    <tr>\n",
              "      <th>2</th>\n",
              "      <td>45</td>\n",
              "      <td>64.8</td>\n",
              "      <td>10</td>\n",
              "      <td>False</td>\n",
              "      <td>False</td>\n",
              "      <td>False</td>\n",
              "      <td>False</td>\n",
              "      <td>False</td>\n",
              "      <td>True</td>\n",
              "      <td>False</td>\n",
              "      <td>...</td>\n",
              "      <td>False</td>\n",
              "      <td>False</td>\n",
              "      <td>False</td>\n",
              "      <td>False</td>\n",
              "      <td>False</td>\n",
              "      <td>False</td>\n",
              "      <td>1702598400</td>\n",
              "      <td>1702598400</td>\n",
              "      <td>2086032196</td>\n",
              "      <td>2086029496</td>\n",
              "    </tr>\n",
              "    <tr>\n",
              "      <th>3</th>\n",
              "      <td>45</td>\n",
              "      <td>64.8</td>\n",
              "      <td>10</td>\n",
              "      <td>False</td>\n",
              "      <td>False</td>\n",
              "      <td>False</td>\n",
              "      <td>False</td>\n",
              "      <td>False</td>\n",
              "      <td>True</td>\n",
              "      <td>False</td>\n",
              "      <td>...</td>\n",
              "      <td>False</td>\n",
              "      <td>False</td>\n",
              "      <td>False</td>\n",
              "      <td>False</td>\n",
              "      <td>False</td>\n",
              "      <td>False</td>\n",
              "      <td>1702598400</td>\n",
              "      <td>1702598400</td>\n",
              "      <td>2086049296</td>\n",
              "      <td>2086046596</td>\n",
              "    </tr>\n",
              "    <tr>\n",
              "      <th>4</th>\n",
              "      <td>45</td>\n",
              "      <td>64.8</td>\n",
              "      <td>10</td>\n",
              "      <td>False</td>\n",
              "      <td>False</td>\n",
              "      <td>False</td>\n",
              "      <td>False</td>\n",
              "      <td>False</td>\n",
              "      <td>True</td>\n",
              "      <td>False</td>\n",
              "      <td>...</td>\n",
              "      <td>False</td>\n",
              "      <td>False</td>\n",
              "      <td>False</td>\n",
              "      <td>False</td>\n",
              "      <td>False</td>\n",
              "      <td>False</td>\n",
              "      <td>1702598400</td>\n",
              "      <td>1702598400</td>\n",
              "      <td>2086054396</td>\n",
              "      <td>2086051696</td>\n",
              "    </tr>\n",
              "  </tbody>\n",
              "</table>\n",
              "<p>5 rows × 316 columns</p>\n",
              "</div>"
            ],
            "text/plain": [
              "   Flight Duration  Price  Days Until Departure  Departure City_AMS  \\\n",
              "0               45   64.8                    10               False   \n",
              "1               45   64.8                    10               False   \n",
              "2               45   64.8                    10               False   \n",
              "3               45   64.8                    10               False   \n",
              "4               45   64.8                    10               False   \n",
              "\n",
              "   Departure City_BCN  Departure City_BKK  Departure City_BRU  \\\n",
              "0               False               False               False   \n",
              "1               False               False               False   \n",
              "2               False               False               False   \n",
              "3               False               False               False   \n",
              "4               False               False               False   \n",
              "\n",
              "   Departure City_CDG  Departure City_CPH  Departure City_DMK  ...  \\\n",
              "0               False                True               False  ...   \n",
              "1               False                True               False  ...   \n",
              "2               False                True               False  ...   \n",
              "3               False                True               False  ...   \n",
              "4               False                True               False  ...   \n",
              "\n",
              "   Arrival Location_USM  Arrival Location_VIE  Arrival Location_YOW  \\\n",
              "0                 False                 False                 False   \n",
              "1                 False                 False                 False   \n",
              "2                 False                 False                 False   \n",
              "3                 False                 False                 False   \n",
              "4                 False                 False                 False   \n",
              "\n",
              "   Arrival Location_YUL  Arrival Location_YVR  Arrival Location_ZRH  \\\n",
              "0                 False                 False                 False   \n",
              "1                 False                 False                 False   \n",
              "2                 False                 False                 False   \n",
              "3                 False                 False                 False   \n",
              "4                 False                 False                 False   \n",
              "\n",
              "   Departure_date_numeric  Arrival_date_numeric  Arrival_time_numeric  \\\n",
              "0              1702598400            1702598400            2086008196   \n",
              "1              1702598400            1702598400            2086019896   \n",
              "2              1702598400            1702598400            2086032196   \n",
              "3              1702598400            1702598400            2086049296   \n",
              "4              1702598400            1702598400            2086054396   \n",
              "\n",
              "   Departure_time_numeric  \n",
              "0              2086005496  \n",
              "1              2086017196  \n",
              "2              2086029496  \n",
              "3              2086046596  \n",
              "4              2086051696  \n",
              "\n",
              "[5 rows x 316 columns]"
            ]
          },
          "execution_count": 31,
          "metadata": {},
          "output_type": "execute_result"
        }
      ],
      "source": [
        "# Create a new dataframe that is a copy of the original dataframe\n",
        "df2 = df.copy()\n",
        "\n",
        "# Remove the original DateTime columns\n",
        "columns_to_drop = ['Arrival Time', 'Arrival Date', 'Departure Date', 'Departure Time']\n",
        "df2 = df2.drop(columns = columns_to_drop, axis = 1)\n",
        "df2.head()"
      ]
    },
    {
      "cell_type": "code",
      "execution_count": 32,
      "metadata": {
        "colab": {
          "base_uri": "https://localhost:8080/"
        },
        "id": "7tPufBtae-1W",
        "outputId": "944b95e2-3b25-491d-c85c-13dab4de9561"
      },
      "outputs": [
        {
          "data": {
            "text/plain": [
              "Flight Duration             int64\n",
              "Price                     float64\n",
              "Days Until Departure        int64\n",
              "Departure City_AMS           bool\n",
              "Departure City_BCN           bool\n",
              "                           ...   \n",
              "Arrival Location_ZRH         bool\n",
              "Departure_date_numeric      int32\n",
              "Arrival_date_numeric        int32\n",
              "Arrival_time_numeric        int32\n",
              "Departure_time_numeric      int32\n",
              "Length: 316, dtype: object"
            ]
          },
          "execution_count": 32,
          "metadata": {},
          "output_type": "execute_result"
        }
      ],
      "source": [
        "df2.dtypes"
      ]
    }
  ],
  "metadata": {
    "colab": {
      "provenance": []
    },
    "kernelspec": {
      "display_name": "Python 3",
      "language": "python",
      "name": "python3"
    },
    "language_info": {
      "codemirror_mode": {
        "name": "ipython",
        "version": 3
      },
      "file_extension": ".py",
      "mimetype": "text/x-python",
      "name": "python",
      "nbconvert_exporter": "python",
      "pygments_lexer": "ipython3",
      "version": "3.10.11"
    },
    "orig_nbformat": 4,
    "vscode": {
      "interpreter": {
        "hash": "c68636a1e49bf3485adde1c0d609ef5e395c0403b8d075633af773dedef405cd"
      }
    }
  },
  "nbformat": 4,
  "nbformat_minor": 0
}
