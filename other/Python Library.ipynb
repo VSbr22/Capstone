{
  "cells": [
    {
      "attachments": {},
      "cell_type": "markdown",
      "metadata": {
        "id": "rI7jgQkbXF4t"
      },
      "source": [
        "# **Unraveling the Dynamics of Airfare Price Predictions**\n",
        "\n",
        "Dennis Myasnyankin, Vannessa Salazar, and Christine Vu\n",
        "\n",
        "Shiley-Marcos School of Engineering, University of San Diego\n",
        "\n",
        "ADS 599: Capstone Project\n",
        "\n",
        "Professor Ebrahim Tarshizi\n",
        "\n",
        "December 11, 2023\n",
        "\n",
        "***"
      ]
    },
    {
      "cell_type": "markdown",
      "metadata": {
        "id": "Eju2lKZSXF4v"
      },
      "source": [
        "## **Data Importing**\n",
        "\n",
        "### **Import Libraries**"
      ]
    },
    {
      "cell_type": "code",
      "execution_count": 1,
      "metadata": {
        "id": "4SuaNOo6XF4w"
      },
      "outputs": [],
      "source": [
        "import pandas as pd\n",
        "import zipfile\n",
        "import io\n",
        "import os\n",
        "import json\n",
        "import requests\n",
        "import matplotlib.pyplot as plt\n",
        "import seaborn as sns\n",
        "import numpy as np\n",
        "\n",
        "from pandas import json_normalize\n",
        "from datetime import datetime\n",
        "from io import BytesIO\n",
        "from scipy import stats\n",
        "from sklearn.neighbors import KNeighborsRegressor\n",
        "from sklearn.metrics import mean_squared_error, mean_absolute_error, r2_score\n",
        "from sklearn.model_selection import GridSearchCV, train_test_split, cross_val_score, KFold\n",
        "from sklearn.ensemble import RandomForestRegressor, GradientBoostingRegressor\n",
        "from sklearn.tree import DecisionTreeRegressor\n",
        "from sklearn.linear_model import LinearRegression, Lasso, Ridge, ElasticNet\n",
        "from sklearn.svm import SVR\n",
        "from xgboost import XGBRegressor\n",
        "from sklearn.neural_network import MLPRegressor\n",
        "from sklearn.preprocessing import StandardScaler"
      ]
    }
  ],
  "metadata": {
    "colab": {
      "provenance": []
    },
    "kernelspec": {
      "display_name": "Python 3",
      "language": "python",
      "name": "python3"
    },
    "language_info": {
      "codemirror_mode": {
        "name": "ipython",
        "version": 3
      },
      "file_extension": ".py",
      "mimetype": "text/x-python",
      "name": "python",
      "nbconvert_exporter": "python",
      "pygments_lexer": "ipython3",
      "version": "3.10.11"
    },
    "orig_nbformat": 4,
    "vscode": {
      "interpreter": {
        "hash": "c68636a1e49bf3485adde1c0d609ef5e395c0403b8d075633af773dedef405cd"
      }
    }
  },
  "nbformat": 4,
  "nbformat_minor": 0
}
